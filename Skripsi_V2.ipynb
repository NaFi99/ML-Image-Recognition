{
  "cells": [
    {
      "cell_type": "markdown",
      "metadata": {
        "id": "view-in-github",
        "colab_type": "text"
      },
      "source": [
        "<a href=\"https://colab.research.google.com/github/NaFi99/ML-Image-Recognition/blob/main/Skripsi_V2.ipynb\" target=\"_parent\"><img src=\"https://colab.research.google.com/assets/colab-badge.svg\" alt=\"Open In Colab\"/></a>"
      ]
    },
    {
      "cell_type": "markdown",
      "metadata": {
        "id": "5a9lX7S3Nr-Q"
      },
      "source": [
        "https://www.youtube.com/watch?v=VCHNh3cMsRE\n",
        "\n",
        "https://github.com/theclassofai/Multiclass_Image_Classification/blob/main/Multiclass_Classification_CNN_DataAug.ipynb"
      ]
    },
    {
      "cell_type": "code",
      "execution_count": null,
      "metadata": {
        "colab": {
          "base_uri": "https://localhost:8080/"
        },
        "id": "m7OtiaCL08T8",
        "outputId": "0126082c-99ee-4a62-b369-ee218f5c999a"
      },
      "outputs": [
        {
          "name": "stdout",
          "output_type": "stream",
          "text": [
            "Mounted at /content/drive\n"
          ]
        }
      ],
      "source": [
        "#run\n",
        "from google.colab import drive\n",
        "drive.mount('/content/drive')"
      ]
    },
    {
      "cell_type": "code",
      "execution_count": null,
      "metadata": {
        "colab": {
          "base_uri": "https://localhost:8080/"
        },
        "id": "1b03Zhom6pfA",
        "outputId": "a103c07e-3a1c-4544-897a-0eef2cc09984"
      },
      "outputs": [
        {
          "name": "stdout",
          "output_type": "stream",
          "text": [
            "['cb', 'ns', 'st', 'cu', 'sc']\n",
            "0\n"
          ]
        }
      ],
      "source": [
        "import warnings\n",
        "import os\n",
        "warnings.filterwarnings('ignore')\n",
        "# Get all the paths\n",
        "data_dir_list = os.listdir('/content/drive/MyDrive/Skripsi/mycloud')\n",
        "print(data_dir_list)\n",
        "path, dirs, files = next(os.walk(\"/content/drive/MyDrive/Skripsi/mycloud\"))\n",
        "file_count = len(files)\n",
        "print(file_count)"
      ]
    },
    {
      "cell_type": "code",
      "execution_count": null,
      "metadata": {
        "id": "gXbXWXYZLXyZ"
      },
      "outputs": [],
      "source": [
        "# Make new base directory\n",
        "original_dataset_dir = '/content/drive/MyDrive/Skripsi/mycloud'\n",
        "#base_dir = '/content/drive/MyDrive/Skripsi/cloud_data'\n",
        "base_dir = '/content/drive/MyDrive/Skripsi/cloud_data60'\n",
        "#os.mkdir(base_dir)"
      ]
    },
    {
      "cell_type": "code",
      "execution_count": null,
      "metadata": {
        "id": "pT62-iaAnrxJ"
      },
      "outputs": [],
      "source": [
        "#create two folders (train and validation)\n",
        "train_dir = os.path.join(base_dir, 'train')\n",
        "#os.mkdir(train_dir)\n",
        "\n",
        "validation_dir = os.path.join(base_dir, 'validation')\n",
        "#os.mkdir(validation_dir)\n"
      ]
    },
    {
      "cell_type": "code",
      "execution_count": null,
      "metadata": {
        "id": "mqvlnY_vl90_"
      },
      "outputs": [],
      "source": [
        "#Under train folder create five folders \n",
        "\n",
        "\n",
        "train_cb_dir = os.path.join(train_dir, 'cumulonimbus')\n",
        "#os.mkdir(train_cb_dir)\n",
        "\n",
        "train_cu_dir = os.path.join(train_dir, 'cumulus')\n",
        "#os.mkdir(train_cu_dir)\n",
        "\n",
        "train_st_dir = os.path.join(train_dir, 'stratus')\n",
        "#os.mkdir(train_st_dir)\n",
        "\n",
        "train_sc_dir = os.path.join(train_dir, 'stratocumulus')\n",
        "#os.mkdir(train_sc_dir)\n",
        "\n",
        "train_ns_dir = os.path.join(train_dir, 'nimbostratus')\n",
        "#os.mkdir(train_ns_dir)\n",
        "\n",
        "#Under validation folder create five folders \n",
        "\n",
        "\n",
        "validation_cb_dir = os.path.join(validation_dir, 'cumulonimbus')\n",
        "#os.mkdir(validation_cb_dir)\n",
        "\n",
        "validation_cu_dir = os.path.join(validation_dir, 'cumulus')\n",
        "#os.mkdir(validation_cu_dir)\n",
        "\n",
        "validation_st_dir = os.path.join(validation_dir, 'stratus')\n",
        "#os.mkdir(validation_st_dir)\n",
        "\n",
        "validation_sc_dir = os.path.join(validation_dir, 'stratocumulus')\n",
        "#os.mkdir(validation_sc_dir)\n",
        "\n",
        "validation_ns_dir = os.path.join(validation_dir, 'nimbostratus')\n",
        "#os.mkdir(validation_ns_dir)"
      ]
    },
    {
      "cell_type": "code",
      "execution_count": null,
      "metadata": {
        "id": "PWalEHpInZhn"
      },
      "outputs": [],
      "source": [
        "#run\n",
        "def split_data(SOURCE, TRAINING, VALIDATION, SPLIT_SIZE):\n",
        "    files = []\n",
        "    for filename in os.listdir(SOURCE):\n",
        "        file = SOURCE + filename\n",
        "        if os.path.getsize(file) > 0:\n",
        "            files.append(filename)\n",
        "        else:\n",
        "            print(filename + \" is zero length, so ignoring.\")\n",
        "\n",
        "    training_length = int(len(files) * SPLIT_SIZE)\n",
        "    valid_length = int(len(files) - training_length)\n",
        "    shuffled_set = random.sample(files, len(files))\n",
        "    training_set = shuffled_set[0:training_length]\n",
        "    valid_set = shuffled_set[training_length:]\n",
        "\n",
        "    for filename in training_set:\n",
        "        this_file = SOURCE + filename\n",
        "        destination = TRAINING + filename\n",
        "        copyfile(this_file, destination)\n",
        "\n",
        "    for filename in valid_set:\n",
        "        this_file = SOURCE + filename\n",
        "        destination = VALIDATION + filename\n",
        "        copyfile(this_file, destination)"
      ]
    },
    {
      "cell_type": "code",
      "execution_count": null,
      "metadata": {
        "id": "6pYO2eGdpJLX"
      },
      "outputs": [],
      "source": [
        "#run\n",
        "CB_SOURCE_DIR = '/content/drive/MyDrive/Skripsi/mycloud/cb/'\n",
        "#TRAINING_CB_DIR = '/content/drive/MyDrive/Skripsi/cloud_data/train/cumulonimbus/'\n",
        "#VALID_CB_DIR = '/content/drive/MyDrive/Skripsi/cloud_data/validation/cumulonimbus/'\n",
        "TRAINING_CB_DIR = '/content/drive/MyDrive/Skripsi/cloud_data60/train/cumulonimbus/'\n",
        "VALID_CB_DIR = '/content/drive/MyDrive/Skripsi/cloud_data60/validation/cumulonimbus/'\n",
        "\n",
        "CU_SOURCE_DIR = '/content/drive/MyDrive/Skripsi/mycloud/cu/'\n",
        "#TRAINING_CU_DIR = '/content/drive/MyDrive/Skripsi/cloud_data/train/cumulus/'\n",
        "#VALID_CU_DIR = '/content/drive/MyDrive/Skripsi/cloud_data/validation/cumulus/'\n",
        "TRAINING_CU_DIR = '/content/drive/MyDrive/Skripsi/cloud_data60/train/cumulus/'\n",
        "VALID_CU_DIR = '/content/drive/MyDrive/Skripsi/cloud_data60/validation/cumulus/'\n",
        "\n",
        "NS_SOURCE_DIR = '/content/drive/MyDrive/Skripsi/mycloud/ns/'\n",
        "#TRAINING_NS_DIR = '/content/drive/MyDrive/Skripsi/cloud_data/train/nimbostratus/'\n",
        "#VALID_NS_DIR = '/content/drive/MyDrive/Skripsi/cloud_data/validation/nimbostratus/'\n",
        "TRAINING_NS_DIR = '/content/drive/MyDrive/Skripsi/cloud_data60/train/nimbostratus/'\n",
        "VALID_NS_DIR = '/content/drive/MyDrive/Skripsi/cloud_data60/validation/nimbostratus/'\n",
        "\n",
        "SC_SOURCE_DIR = '/content/drive/MyDrive/Skripsi/mycloud/sc/'\n",
        "#TRAINING_SC_DIR = '/content/drive/MyDrive/Skripsi/cloud_data/train/stratocumulus/'\n",
        "#VALID_SC_DIR = '/content/drive/MyDrive/Skripsi/cloud_data/validation/stratocumulus/'\n",
        "TRAINING_SC_DIR = '/content/drive/MyDrive/Skripsi/cloud_data60/train/stratocumulus/'\n",
        "VALID_SC_DIR = '/content/drive/MyDrive/Skripsi/cloud_data60/validation/stratocumulus/'\n",
        "\n",
        "ST_SOURCE_DIR = '/content/drive/MyDrive/Skripsi/mycloud/st/'\n",
        "#TRAINING_ST_DIR = '/content/drive/MyDrive/Skripsi/cloud_data/train/stratus/'\n",
        "#VALID_ST_DIR = '/content/drive/MyDrive/Skripsi/cloud_data/validation/stratus/'\n",
        "TRAINING_ST_DIR = '/content/drive/MyDrive/Skripsi/cloud_data60/train/stratus/'\n",
        "VALID_ST_DIR = '/content/drive/MyDrive/Skripsi/cloud_data60/validation/stratus/'"
      ]
    },
    {
      "cell_type": "code",
      "execution_count": null,
      "metadata": {
        "id": "Sm9504Tw9_zh"
      },
      "outputs": [],
      "source": [
        "#run\n",
        "import os\n",
        "import numpy as np \n",
        "import pandas as pd\n",
        "import seaborn as sn\n",
        "from google.colab import files\n",
        "from keras.preprocessing import image\n",
        "import matplotlib.pyplot as plt\n",
        "import matplotlib.image as mpimg\n",
        "from keras.models import load_model\n",
        "from sklearn.metrics import confusion_matrix, classification_report"
      ]
    },
    {
      "cell_type": "code",
      "execution_count": null,
      "metadata": {
        "colab": {
          "base_uri": "https://localhost:8080/",
          "height": 70
        },
        "id": "pefn03S3qai7",
        "outputId": "59959f25-a898-4af2-c1d8-9cfc1dd630d1"
      },
      "outputs": [
        {
          "data": {
            "application/vnd.google.colaboratory.intrinsic+json": {
              "type": "string"
            },
            "text/plain": [
              "'\\nimport random\\nfrom shutil import copyfile\\n\\nsplit_size = .60\\n\\nsplit_data(CB_SOURCE_DIR, TRAINING_CB_DIR, VALID_CB_DIR, split_size)\\nsplit_data(CU_SOURCE_DIR, TRAINING_CU_DIR, VALID_CU_DIR, split_size)\\nsplit_data(NS_SOURCE_DIR, TRAINING_NS_DIR, VALID_NS_DIR, split_size)\\nsplit_data(SC_SOURCE_DIR, TRAINING_SC_DIR, VALID_SC_DIR, split_size)\\nsplit_data(ST_SOURCE_DIR, TRAINING_ST_DIR, VALID_ST_DIR, split_size)\\n\\n'"
            ]
          },
          "execution_count": 9,
          "metadata": {},
          "output_type": "execute_result"
        }
      ],
      "source": [
        "'''\n",
        "import random\n",
        "from shutil import copyfile\n",
        "\n",
        "split_size = .60\n",
        "\n",
        "split_data(CB_SOURCE_DIR, TRAINING_CB_DIR, VALID_CB_DIR, split_size)\n",
        "split_data(CU_SOURCE_DIR, TRAINING_CU_DIR, VALID_CU_DIR, split_size)\n",
        "split_data(NS_SOURCE_DIR, TRAINING_NS_DIR, VALID_NS_DIR, split_size)\n",
        "split_data(SC_SOURCE_DIR, TRAINING_SC_DIR, VALID_SC_DIR, split_size)\n",
        "split_data(ST_SOURCE_DIR, TRAINING_ST_DIR, VALID_ST_DIR, split_size)\n",
        "\n",
        "'''"
      ]
    },
    {
      "cell_type": "code",
      "execution_count": null,
      "metadata": {
        "colab": {
          "base_uri": "https://localhost:8080/",
          "height": 390
        },
        "id": "Rwrxo4obq4SE",
        "outputId": "1f6f1a0f-aac6-4e86-c98c-0b7a1ea5e55f"
      },
      "outputs": [
        {
          "data": {
            "image/png": "[encoded data removed]",
            "text/plain": [
              "<Figure size 648x432 with 1 Axes>"
            ]
          },
          "metadata": {},
          "output_type": "display_data"
        }
      ],
      "source": [
        "#run\n",
        "import matplotlib.pyplot as plt\n",
        "import seaborn as sns\n",
        "from matplotlib.image import imread\n",
        "import pathlib\n",
        "\n",
        "image_folder = ['cumulonimbus', 'cumulus', 'nimbostratus', 'stratocumulus', 'stratus']\n",
        "nimgs = {}\n",
        "for i in image_folder:\n",
        "    nimages = len(os.listdir('/content/drive/MyDrive/Skripsi/cloud_data/train/'+i+'/'))\n",
        "    nimgs[i]=nimages\n",
        "plt.figure(figsize=(9, 6))\n",
        "plt.bar(range(len(nimgs)), list(nimgs.values()), align='center')\n",
        "plt.xticks(range(len(nimgs)), list(nimgs.keys()))\n",
        "plt.title('Distribution of different classes in Training Dataset')\n",
        "plt.show()"
      ]
    },
    {
      "cell_type": "code",
      "execution_count": null,
      "metadata": {
        "colab": {
          "base_uri": "https://localhost:8080/"
        },
        "id": "6HXKuzFvuWy7",
        "outputId": "8d7b5425-d9fb-4bec-f31b-ec1b197a197e"
      },
      "outputs": [
        {
          "name": "stdout",
          "output_type": "stream",
          "text": [
            "Training cumulonimbus images are: 224\n",
            "Training cumulus images are: 207\n",
            "Training nimbostratus images are: 204\n",
            "Training stratocumulus images are: 210\n",
            "Training stratus images are: 178\n"
          ]
        }
      ],
      "source": [
        "for i in ['cumulonimbus', 'cumulus', 'nimbostratus', 'stratocumulus', 'stratus']:\n",
        "    print('Training {} images are: '.format(i)+str(len(os.listdir('/content/drive/MyDrive/Skripsi/cloud_data/train/'+i+'/'))))"
      ]
    },
    {
      "cell_type": "code",
      "execution_count": null,
      "metadata": {
        "colab": {
          "base_uri": "https://localhost:8080/",
          "height": 390
        },
        "id": "pFv7JzB_u7UA",
        "outputId": "5fd77971-9806-402c-adb7-a721e1525d80"
      },
      "outputs": [
        {
          "data": {
            "image/png": "[encoded data removed]",
            "text/plain": [
              "<Figure size 648x432 with 1 Axes>"
            ]
          },
          "metadata": {},
          "output_type": "display_data"
        }
      ],
      "source": [
        "image_folder = ['cumulonimbus', 'cumulus', 'nimbostratus', 'stratocumulus', 'stratus']\n",
        "nimgs = {}\n",
        "for i in image_folder:\n",
        "    nimages = len(os.listdir('/content/drive/MyDrive/Skripsi/cloud_data/validation/'+i+'/'))\n",
        "    nimgs[i]=nimages\n",
        "plt.figure(figsize=(9, 6))\n",
        "plt.bar(range(len(nimgs)), list(nimgs.values()), align='center')\n",
        "plt.xticks(range(len(nimgs)), list(nimgs.keys()))\n",
        "plt.title('Distribution of different classes in Validation Dataset')\n",
        "plt.show()"
      ]
    },
    {
      "cell_type": "code",
      "execution_count": null,
      "metadata": {
        "colab": {
          "base_uri": "https://localhost:8080/"
        },
        "id": "7msu3O1RvI_u",
        "outputId": "03010d4d-c514-4176-b7c8-270b5301214d"
      },
      "outputs": [
        {
          "name": "stdout",
          "output_type": "stream",
          "text": [
            "Valid cumulonimbus images are: 57\n",
            "Valid cumulus images are: 52\n",
            "Valid nimbostratus images are: 52\n",
            "Valid stratocumulus images are: 53\n",
            "Valid stratus images are: 45\n"
          ]
        }
      ],
      "source": [
        "for i in ['cumulonimbus', 'cumulus', 'nimbostratus', 'stratocumulus', 'stratus']:\n",
        "    print('Valid {} images are: '.format(i)+str(len(os.listdir('/content/drive/MyDrive/Skripsi/cloud_data/validation/'+i+'/'))))"
      ]
    },
    {
      "cell_type": "code",
      "execution_count": null,
      "metadata": {
        "id": "C-Ly9Zj1vTd6"
      },
      "outputs": [],
      "source": [
        "#run\n",
        "import tensorflow as tf\n",
        "from tensorflow.keras.optimizers import Adam\n",
        "from tensorflow.keras.preprocessing.image import ImageDataGenerator\n",
        "from tensorflow.keras.layers import Conv2D, MaxPooling2D, Flatten, Dense, Dropout\n",
        "from tensorflow.keras.models import Sequential\n",
        "from tensorflow.keras.callbacks import EarlyStopping, ModelCheckpoint\n",
        "import itertools\n",
        "import math \n",
        "import datetime\n",
        "import time"
      ]
    },
    {
      "cell_type": "code",
      "execution_count": null,
      "metadata": {
        "id": "7CE6P0b8vZHZ"
      },
      "outputs": [],
      "source": [
        "#run\n",
        "#img_width=500; img_height=500\n",
        "img_width=250; img_height=250\n",
        "#img_width=150; img_height=150\n",
        "#img_width=100; img_height=100\n",
        "\n",
        "#batch_size=8\n",
        "batch_size=16\n",
        "#batch_size=32\n",
        "#batch_size=64\n",
        "#Number of items from the data to takes the training model. If you use the batch size of one you update weights after every sample. If you use batch size 32, you calculate the average error and then update weights every 32 items."
      ]
    },
    {
      "cell_type": "code",
      "execution_count": null,
      "metadata": {
        "colab": {
          "base_uri": "https://localhost:8080/"
        },
        "id": "ErEZq4v_vk7i",
        "outputId": "024005e0-65ca-4e7b-e9b3-b984f0376930"
      },
      "outputs": [
        {
          "name": "stdout",
          "output_type": "stream",
          "text": [
            "Found 1023 images belonging to 5 classes.\n"
          ]
        }
      ],
      "source": [
        "\n",
        "TRAINING_DIR = '/content/drive/MyDrive/Skripsi/cloud_data/train/'\n",
        "\n",
        "train_datagen = ImageDataGenerator(rescale= 1/255.0,\n",
        "                                   rotation_range= 30,\n",
        "                                   zoom_range= 0.2,\n",
        "                                   shear_range= 0.2,\n",
        "                                   fill_mode= 'nearest',\n",
        "                                   horizontal_flip= True\n",
        "                                   )\n",
        "\n",
        "train_generator = train_datagen.flow_from_directory(TRAINING_DIR,\n",
        "                                                    batch_size=batch_size,\n",
        "                                                    class_mode='categorical',\n",
        "                                                    target_size=(img_height, img_width))\n"
      ]
    },
    {
      "cell_type": "code",
      "execution_count": null,
      "metadata": {
        "colab": {
          "base_uri": "https://localhost:8080/"
        },
        "id": "ityCbqarv2lI",
        "outputId": "fc025230-d921-40c7-e5fd-0d5312f99544"
      },
      "outputs": [
        {
          "name": "stdout",
          "output_type": "stream",
          "text": [
            "Found 259 images belonging to 5 classes.\n"
          ]
        }
      ],
      "source": [
        "VALIDATION_DIR = '/content/drive/MyDrive/Skripsi/cloud_data/validation/'\n",
        "\n",
        "validation_datagen = ImageDataGenerator(rescale= 1/255.0\n",
        "                                        )\n",
        "\n",
        "validation_generator = validation_datagen.flow_from_directory(VALIDATION_DIR,\n",
        "                                                              batch_size=batch_size,\n",
        "                                                              class_mode='categorical',\n",
        "                                                              target_size=(img_height, img_width)\n",
        "                                                             )"
      ]
    },
    {
      "cell_type": "code",
      "execution_count": null,
      "metadata": {
        "id": "-ndlHemcv7FC"
      },
      "outputs": [],
      "source": [
        "callbacks = EarlyStopping(monitor='val_loss', patience=5, verbose=1, mode='auto')\n",
        "# autosave best Model\n",
        "best_model_file = '/content/drive/MyDrive/Skripsi/best_model60.h5'\n",
        "metric = 'val_accuracy'\n",
        "best_model = ModelCheckpoint(best_model_file, monitor='val_accuracy', verbose = 1, save_best_only = True)"
      ]
    },
    {
      "cell_type": "code",
      "execution_count": null,
      "metadata": {
        "colab": {
          "base_uri": "https://localhost:8080/"
        },
        "id": "f63bEWzxYNKz",
        "outputId": "23247cf5-56be-429a-f1eb-aac8dba208dc"
      },
      "outputs": [
        {
          "name": "stdout",
          "output_type": "stream",
          "text": [
            "Downloading data from https://storage.googleapis.com/tensorflow/keras-applications/resnet/resnet50v2_weights_tf_dim_ordering_tf_kernels_notop.h5\n",
            "94674944/94668760 [==============================] - 2s 0us/step\n",
            "94683136/94668760 [==============================] - 2s 0us/step\n"
          ]
        }
      ],
      "source": [
        "input_shape=(img_height, img_width, 3)\n",
        "tf_model = tf.keras.applications.ResNet50V2(\n",
        "    input_shape=input_shape,\n",
        "    include_top=False\n",
        ")"
      ]
    },
    {
      "cell_type": "code",
      "execution_count": null,
      "metadata": {
        "id": "CoJvuREOwjTn"
      },
      "outputs": [],
      "source": [
        "model = Sequential([\n",
        "    #tf_model,\n",
        "    Conv2D(64, (3, 3), activation='relu'),\n",
        "    MaxPooling2D((2, 2), padding='same'),\n",
        "    Conv2D(32, (3, 3), activation='relu'),\n",
        "    MaxPooling2D((2, 2), padding='same'),\n",
        "\n",
        "\n",
        "    Flatten(), \n",
        "    Dense(64, activation='relu'),\n",
        "    Dropout(0.50),\n",
        "\n",
        "    Dense(5, activation='softmax')\n",
        "])\n",
        "#model.build(input_shape)\n",
        "#model.summary()"
      ]
    },
    {
      "cell_type": "code",
      "execution_count": null,
      "metadata": {
        "id": "OaDlCXPzw8Uv"
      },
      "outputs": [],
      "source": [
        "model.compile(optimizer='Adam', \n",
        "              loss='categorical_crossentropy', \n",
        "              metrics =['accuracy'])"
      ]
    },
    {
      "cell_type": "code",
      "execution_count": null,
      "metadata": {
        "colab": {
          "background_save": true,
          "base_uri": "https://localhost:8080/"
        },
        "id": "SGgXpxJExDc0",
        "outputId": "86b1b678-2f84-403d-be79-474fe6851330"
      },
      "outputs": [
        {
          "name": "stdout",
          "output_type": "stream",
          "text": [
            "Epoch 1/100\n",
            "50/50 [==============================] - ETA: 0s - loss: 1.6764 - accuracy: 0.2778\n",
            "Epoch 1: val_accuracy improved from -inf to 0.36680, saving model to /content/drive/MyDrive/Skripsi/best_model60.h5\n",
            "50/50 [==============================] - 22s 432ms/step - loss: 1.6764 - accuracy: 0.2778 - val_loss: 1.5379 - val_accuracy: 0.3668\n",
            "Epoch 2/100\n",
            "50/50 [==============================] - ETA: 0s - loss: 1.4766 - accuracy: 0.3450\n",
            "Epoch 2: val_accuracy improved from 0.36680 to 0.43629, saving model to /content/drive/MyDrive/Skripsi/best_model60.h5\n",
            "50/50 [==============================] - 23s 453ms/step - loss: 1.4766 - accuracy: 0.3450 - val_loss: 1.4169 - val_accuracy: 0.4363\n",
            "Epoch 3/100\n",
            "50/50 [==============================] - ETA: 0s - loss: 1.4674 - accuracy: 0.3575\n",
            "Epoch 3: val_accuracy improved from 0.43629 to 0.44402, saving model to /content/drive/MyDrive/Skripsi/best_model60.h5\n",
            "50/50 [==============================] - 23s 452ms/step - loss: 1.4674 - accuracy: 0.3575 - val_loss: 1.4122 - val_accuracy: 0.4440\n",
            "Epoch 4/100\n",
            "50/50 [==============================] - ETA: 0s - loss: 1.4429 - accuracy: 0.3467\n",
            "Epoch 4: val_accuracy did not improve from 0.44402\n",
            "50/50 [==============================] - 22s 436ms/step - loss: 1.4429 - accuracy: 0.3467 - val_loss: 1.4117 - val_accuracy: 0.4402\n",
            "Epoch 5/100\n",
            "50/50 [==============================] - ETA: 0s - loss: 1.4144 - accuracy: 0.4018\n",
            "Epoch 5: val_accuracy did not improve from 0.44402\n",
            "50/50 [==============================] - 22s 434ms/step - loss: 1.4144 - accuracy: 0.4018 - val_loss: 1.3705 - val_accuracy: 0.4208\n",
            "Epoch 6/100\n",
            "50/50 [==============================] - ETA: 0s - loss: 1.4259 - accuracy: 0.3780\n",
            "Epoch 6: val_accuracy improved from 0.44402 to 0.45560, saving model to /content/drive/MyDrive/Skripsi/best_model60.h5\n",
            "50/50 [==============================] - 22s 441ms/step - loss: 1.4259 - accuracy: 0.3780 - val_loss: 1.3133 - val_accuracy: 0.4556\n",
            "Epoch 7/100\n",
            "50/50 [==============================] - ETA: 0s - loss: 1.4029 - accuracy: 0.3942\n",
            "Epoch 7: val_accuracy did not improve from 0.45560\n",
            "50/50 [==============================] - 22s 433ms/step - loss: 1.4029 - accuracy: 0.3942 - val_loss: 1.3804 - val_accuracy: 0.4517\n",
            "Epoch 8/100\n",
            "50/50 [==============================] - ETA: 0s - loss: 1.4299 - accuracy: 0.3738\n",
            "Epoch 8: val_accuracy did not improve from 0.45560\n",
            "50/50 [==============================] - 22s 440ms/step - loss: 1.4299 - accuracy: 0.3738 - val_loss: 1.3245 - val_accuracy: 0.4517\n",
            "Epoch 9/100\n",
            "50/50 [==============================] - ETA: 0s - loss: 1.3680 - accuracy: 0.4130\n",
            "Epoch 9: val_accuracy did not improve from 0.45560\n",
            "50/50 [==============================] - 21s 422ms/step - loss: 1.3680 - accuracy: 0.4130 - val_loss: 1.3410 - val_accuracy: 0.4324\n",
            "Epoch 10/100\n",
            "50/50 [==============================] - ETA: 0s - loss: 1.3380 - accuracy: 0.4250\n",
            "Epoch 10: val_accuracy improved from 0.45560 to 0.49807, saving model to /content/drive/MyDrive/Skripsi/best_model60.h5\n",
            "50/50 [==============================] - 23s 455ms/step - loss: 1.3380 - accuracy: 0.4250 - val_loss: 1.2899 - val_accuracy: 0.4981\n",
            "Epoch 11/100\n",
            "50/50 [==============================] - ETA: 0s - loss: 1.3538 - accuracy: 0.4193\n",
            "Epoch 11: val_accuracy did not improve from 0.49807\n",
            "50/50 [==============================] - 21s 430ms/step - loss: 1.3538 - accuracy: 0.4193 - val_loss: 1.3229 - val_accuracy: 0.4556\n",
            "Epoch 12/100\n",
            "50/50 [==============================] - ETA: 0s - loss: 1.3704 - accuracy: 0.4205\n",
            "Epoch 12: val_accuracy did not improve from 0.49807\n",
            "50/50 [==============================] - 22s 439ms/step - loss: 1.3704 - accuracy: 0.4205 - val_loss: 1.3180 - val_accuracy: 0.4710\n",
            "Epoch 13/100\n",
            "50/50 [==============================] - ETA: 0s - loss: 1.3246 - accuracy: 0.4400\n",
            "Epoch 13: val_accuracy did not improve from 0.49807\n",
            "50/50 [==============================] - 22s 440ms/step - loss: 1.3246 - accuracy: 0.4400 - val_loss: 1.2806 - val_accuracy: 0.4672\n",
            "Epoch 14/100\n",
            "50/50 [==============================] - ETA: 0s - loss: 1.3413 - accuracy: 0.4531\n",
            "Epoch 14: val_accuracy did not improve from 0.49807\n",
            "50/50 [==============================] - 21s 431ms/step - loss: 1.3413 - accuracy: 0.4531 - val_loss: 1.2742 - val_accuracy: 0.4826\n",
            "Epoch 15/100\n",
            "50/50 [==============================] - ETA: 0s - loss: 1.3172 - accuracy: 0.4375\n",
            "Epoch 15: val_accuracy did not improve from 0.49807\n",
            "50/50 [==============================] - 22s 439ms/step - loss: 1.3172 - accuracy: 0.4375 - val_loss: 1.3394 - val_accuracy: 0.4633\n",
            "Epoch 16/100\n",
            "50/50 [==============================] - ETA: 0s - loss: 1.3685 - accuracy: 0.4243\n",
            "Epoch 16: val_accuracy did not improve from 0.49807\n",
            "50/50 [==============================] - 20s 410ms/step - loss: 1.3685 - accuracy: 0.4243 - val_loss: 1.3394 - val_accuracy: 0.4402\n",
            "Epoch 17/100\n",
            "50/50 [==============================] - ETA: 0s - loss: 1.3467 - accuracy: 0.4193\n",
            "Epoch 17: val_accuracy did not improve from 0.49807\n",
            "50/50 [==============================] - 22s 436ms/step - loss: 1.3467 - accuracy: 0.4193 - val_loss: 1.2810 - val_accuracy: 0.4826\n",
            "Epoch 18/100\n",
            "50/50 [==============================] - ETA: 0s - loss: 1.3075 - accuracy: 0.4506\n",
            "Epoch 18: val_accuracy did not improve from 0.49807\n",
            "50/50 [==============================] - 21s 420ms/step - loss: 1.3075 - accuracy: 0.4506 - val_loss: 1.3607 - val_accuracy: 0.4324\n",
            "Epoch 19/100\n",
            "50/50 [==============================] - ETA: 0s - loss: 1.3350 - accuracy: 0.4293\n",
            "Epoch 19: val_accuracy did not improve from 0.49807\n",
            "50/50 [==============================] - 21s 431ms/step - loss: 1.3350 - accuracy: 0.4293 - val_loss: 1.3089 - val_accuracy: 0.4633\n",
            "Epoch 20/100\n",
            "50/50 [==============================] - ETA: 0s - loss: 1.3251 - accuracy: 0.4350\n",
            "Epoch 20: val_accuracy did not improve from 0.49807\n",
            "50/50 [==============================] - 22s 441ms/step - loss: 1.3251 - accuracy: 0.4350 - val_loss: 1.3292 - val_accuracy: 0.4633\n",
            "Epoch 21/100\n",
            "50/50 [==============================] - ETA: 0s - loss: 1.3080 - accuracy: 0.4631\n",
            "Epoch 21: val_accuracy did not improve from 0.49807\n",
            "50/50 [==============================] - 22s 427ms/step - loss: 1.3080 - accuracy: 0.4631 - val_loss: 1.3068 - val_accuracy: 0.4710\n",
            "Epoch 22/100\n",
            "50/50 [==============================] - ETA: 0s - loss: 1.2872 - accuracy: 0.4462\n",
            "Epoch 22: val_accuracy did not improve from 0.49807\n",
            "50/50 [==============================] - 21s 422ms/step - loss: 1.2872 - accuracy: 0.4462 - val_loss: 1.2998 - val_accuracy: 0.4672\n",
            "Epoch 23/100\n",
            "50/50 [==============================] - ETA: 0s - loss: 1.2913 - accuracy: 0.4606\n",
            "Epoch 23: val_accuracy did not improve from 0.49807\n",
            "50/50 [==============================] - 21s 425ms/step - loss: 1.2913 - accuracy: 0.4606 - val_loss: 1.2993 - val_accuracy: 0.4788\n",
            "Epoch 24/100\n",
            "50/50 [==============================] - ETA: 0s - loss: 1.2698 - accuracy: 0.4643\n",
            "Epoch 24: val_accuracy did not improve from 0.49807\n",
            "50/50 [==============================] - 22s 428ms/step - loss: 1.2698 - accuracy: 0.4643 - val_loss: 1.2952 - val_accuracy: 0.4517\n",
            "Epoch 25/100\n",
            "50/50 [==============================] - ETA: 0s - loss: 1.2971 - accuracy: 0.4718\n",
            "Epoch 25: val_accuracy did not improve from 0.49807\n",
            "50/50 [==============================] - 22s 432ms/step - loss: 1.2971 - accuracy: 0.4718 - val_loss: 1.2787 - val_accuracy: 0.4942\n",
            "Epoch 26/100\n",
            "50/50 [==============================] - ETA: 0s - loss: 1.2627 - accuracy: 0.4963\n",
            "Epoch 26: val_accuracy did not improve from 0.49807\n",
            "50/50 [==============================] - 21s 423ms/step - loss: 1.2627 - accuracy: 0.4963 - val_loss: 1.2969 - val_accuracy: 0.4749\n",
            "Epoch 27/100\n",
            "50/50 [==============================] - ETA: 0s - loss: 1.2568 - accuracy: 0.4643\n",
            "Epoch 27: val_accuracy did not improve from 0.49807\n",
            "50/50 [==============================] - 21s 420ms/step - loss: 1.2568 - accuracy: 0.4643 - val_loss: 1.3299 - val_accuracy: 0.4788\n",
            "Epoch 28/100\n",
            "50/50 [==============================] - ETA: 0s - loss: 1.2659 - accuracy: 0.4650\n",
            "Epoch 28: val_accuracy did not improve from 0.49807\n",
            "50/50 [==============================] - 22s 438ms/step - loss: 1.2659 - accuracy: 0.4650 - val_loss: 1.2840 - val_accuracy: 0.4788\n",
            "Epoch 29/100\n",
            "50/50 [==============================] - ETA: 0s - loss: 1.2485 - accuracy: 0.4781\n",
            "Epoch 29: val_accuracy did not improve from 0.49807\n",
            "50/50 [==============================] - 21s 429ms/step - loss: 1.2485 - accuracy: 0.4781 - val_loss: 1.2660 - val_accuracy: 0.4788\n",
            "Epoch 30/100\n",
            "50/50 [==============================] - ETA: 0s - loss: 1.2510 - accuracy: 0.4593\n",
            "Epoch 30: val_accuracy did not improve from 0.49807\n",
            "50/50 [==============================] - 22s 430ms/step - loss: 1.2510 - accuracy: 0.4593 - val_loss: 1.2520 - val_accuracy: 0.4865\n",
            "Epoch 31/100\n",
            "50/50 [==============================] - ETA: 0s - loss: 1.2307 - accuracy: 0.4775\n",
            "Epoch 31: val_accuracy did not improve from 0.49807\n",
            "50/50 [==============================] - 21s 428ms/step - loss: 1.2307 - accuracy: 0.4775 - val_loss: 1.2925 - val_accuracy: 0.4672\n",
            "Epoch 32/100\n",
            "50/50 [==============================] - ETA: 0s - loss: 1.2167 - accuracy: 0.4731\n",
            "Epoch 32: val_accuracy improved from 0.49807 to 0.50193, saving model to /content/drive/MyDrive/Skripsi/best_model60.h5\n",
            "50/50 [==============================] - 22s 443ms/step - loss: 1.2167 - accuracy: 0.4731 - val_loss: 1.2770 - val_accuracy: 0.5019\n",
            "Epoch 33/100\n",
            "50/50 [==============================] - ETA: 0s - loss: 1.2035 - accuracy: 0.4900\n",
            "Epoch 33: val_accuracy did not improve from 0.50193\n",
            "50/50 [==============================] - 21s 421ms/step - loss: 1.2035 - accuracy: 0.4900 - val_loss: 1.2702 - val_accuracy: 0.4865\n",
            "Epoch 34/100\n",
            "50/50 [==============================] - ETA: 0s - loss: 1.2661 - accuracy: 0.4431\n",
            "Epoch 34: val_accuracy did not improve from 0.50193\n",
            "50/50 [==============================] - 21s 423ms/step - loss: 1.2661 - accuracy: 0.4431 - val_loss: 1.2650 - val_accuracy: 0.4788\n",
            "Epoch 35/100\n",
            "50/50 [==============================] - ETA: 0s - loss: 1.2381 - accuracy: 0.4756\n",
            "Epoch 35: val_accuracy did not improve from 0.50193\n",
            "50/50 [==============================] - 21s 429ms/step - loss: 1.2381 - accuracy: 0.4756 - val_loss: 1.2695 - val_accuracy: 0.4981\n",
            "Epoch 36/100\n",
            "50/50 [==============================] - ETA: 0s - loss: 1.2029 - accuracy: 0.5069\n",
            "Epoch 36: val_accuracy did not improve from 0.50193\n",
            "50/50 [==============================] - 21s 430ms/step - loss: 1.2029 - accuracy: 0.5069 - val_loss: 1.3415 - val_accuracy: 0.4903\n",
            "Epoch 37/100\n",
            "50/50 [==============================] - ETA: 0s - loss: 1.2404 - accuracy: 0.4919\n",
            "Epoch 37: val_accuracy did not improve from 0.50193\n",
            "50/50 [==============================] - 21s 419ms/step - loss: 1.2404 - accuracy: 0.4919 - val_loss: 1.3083 - val_accuracy: 0.5019\n",
            "Epoch 38/100\n",
            "50/50 [==============================] - ETA: 0s - loss: 1.2535 - accuracy: 0.4819\n",
            "Epoch 38: val_accuracy did not improve from 0.50193\n",
            "50/50 [==============================] - 21s 425ms/step - loss: 1.2535 - accuracy: 0.4819 - val_loss: 1.2552 - val_accuracy: 0.4903\n",
            "Epoch 39/100\n",
            "50/50 [==============================] - ETA: 0s - loss: 1.2428 - accuracy: 0.4643\n",
            "Epoch 39: val_accuracy did not improve from 0.50193\n",
            "50/50 [==============================] - 21s 426ms/step - loss: 1.2428 - accuracy: 0.4643 - val_loss: 1.2851 - val_accuracy: 0.4749\n",
            "Epoch 40/100\n",
            "50/50 [==============================] - ETA: 0s - loss: 1.2500 - accuracy: 0.4718\n",
            "Epoch 40: val_accuracy did not improve from 0.50193\n",
            "50/50 [==============================] - 21s 425ms/step - loss: 1.2500 - accuracy: 0.4718 - val_loss: 1.3340 - val_accuracy: 0.4865\n",
            "Epoch 41/100\n",
            "50/50 [==============================] - ETA: 0s - loss: 1.2071 - accuracy: 0.4956\n",
            "Epoch 41: val_accuracy did not improve from 0.50193\n",
            "50/50 [==============================] - 21s 419ms/step - loss: 1.2071 - accuracy: 0.4956 - val_loss: 1.3348 - val_accuracy: 0.4865\n",
            "Epoch 42/100\n",
            "50/50 [==============================] - ETA: 0s - loss: 1.2022 - accuracy: 0.4881\n",
            "Epoch 42: val_accuracy did not improve from 0.50193\n",
            "50/50 [==============================] - 21s 421ms/step - loss: 1.2022 - accuracy: 0.4881 - val_loss: 1.3036 - val_accuracy: 0.4865\n",
            "Epoch 43/100\n",
            "50/50 [==============================] - ETA: 0s - loss: 1.2348 - accuracy: 0.4756\n",
            "Epoch 43: val_accuracy did not improve from 0.50193\n",
            "50/50 [==============================] - 21s 418ms/step - loss: 1.2348 - accuracy: 0.4756 - val_loss: 1.2746 - val_accuracy: 0.4981\n",
            "Epoch 44/100\n",
            "50/50 [==============================] - ETA: 0s - loss: 1.1683 - accuracy: 0.5031\n",
            "Epoch 44: val_accuracy did not improve from 0.50193\n",
            "50/50 [==============================] - 21s 429ms/step - loss: 1.1683 - accuracy: 0.5031 - val_loss: 1.2720 - val_accuracy: 0.4826\n",
            "Epoch 45/100\n",
            "50/50 [==============================] - ETA: 0s - loss: 1.1774 - accuracy: 0.5119\n",
            "Epoch 45: val_accuracy did not improve from 0.50193\n",
            "50/50 [==============================] - 21s 418ms/step - loss: 1.1774 - accuracy: 0.5119 - val_loss: 1.2797 - val_accuracy: 0.4826\n",
            "Epoch 46/100\n",
            "50/50 [==============================] - ETA: 0s - loss: 1.2234 - accuracy: 0.4844\n",
            "Epoch 46: val_accuracy did not improve from 0.50193\n",
            "50/50 [==============================] - 21s 427ms/step - loss: 1.2234 - accuracy: 0.4844 - val_loss: 1.2942 - val_accuracy: 0.4633\n",
            "Epoch 47/100\n",
            "50/50 [==============================] - ETA: 0s - loss: 1.1885 - accuracy: 0.5031\n",
            "Epoch 47: val_accuracy did not improve from 0.50193\n",
            "50/50 [==============================] - 21s 427ms/step - loss: 1.1885 - accuracy: 0.5031 - val_loss: 1.2962 - val_accuracy: 0.4942\n",
            "Epoch 48/100\n",
            "50/50 [==============================] - ETA: 0s - loss: 1.1851 - accuracy: 0.5044\n",
            "Epoch 48: val_accuracy did not improve from 0.50193\n",
            "50/50 [==============================] - 22s 434ms/step - loss: 1.1851 - accuracy: 0.5044 - val_loss: 1.3570 - val_accuracy: 0.4672\n",
            "Epoch 49/100\n",
            "50/50 [==============================] - ETA: 0s - loss: 1.2059 - accuracy: 0.4938\n",
            "Epoch 49: val_accuracy did not improve from 0.50193\n",
            "50/50 [==============================] - 22s 436ms/step - loss: 1.2059 - accuracy: 0.4938 - val_loss: 1.2849 - val_accuracy: 0.4749\n",
            "Epoch 50/100\n",
            "50/50 [==============================] - ETA: 0s - loss: 1.2060 - accuracy: 0.5194\n",
            "Epoch 50: val_accuracy did not improve from 0.50193\n",
            "50/50 [==============================] - 21s 431ms/step - loss: 1.2060 - accuracy: 0.5194 - val_loss: 1.2857 - val_accuracy: 0.4749\n",
            "Epoch 51/100\n",
            "50/50 [==============================] - ETA: 0s - loss: 1.1856 - accuracy: 0.5044\n",
            "Epoch 51: val_accuracy did not improve from 0.50193\n",
            "50/50 [==============================] - 21s 430ms/step - loss: 1.1856 - accuracy: 0.5044 - val_loss: 1.3777 - val_accuracy: 0.4903\n",
            "Epoch 52/100\n",
            "50/50 [==============================] - ETA: 0s - loss: 1.1809 - accuracy: 0.4956\n",
            "Epoch 52: val_accuracy did not improve from 0.50193\n",
            "50/50 [==============================] - 20s 400ms/step - loss: 1.1809 - accuracy: 0.4956 - val_loss: 1.3307 - val_accuracy: 0.4595\n",
            "Epoch 53/100\n",
            "50/50 [==============================] - ETA: 0s - loss: 1.1781 - accuracy: 0.5131\n",
            "Epoch 53: val_accuracy did not improve from 0.50193\n",
            "50/50 [==============================] - 21s 422ms/step - loss: 1.1781 - accuracy: 0.5131 - val_loss: 1.3545 - val_accuracy: 0.4826\n",
            "Epoch 54/100\n",
            "50/50 [==============================] - ETA: 0s - loss: 1.1978 - accuracy: 0.4869\n",
            "Epoch 54: val_accuracy did not improve from 0.50193\n",
            "50/50 [==============================] - 21s 427ms/step - loss: 1.1978 - accuracy: 0.4869 - val_loss: 1.3198 - val_accuracy: 0.4865\n",
            "Epoch 55/100\n",
            "50/50 [==============================] - ETA: 0s - loss: 1.1628 - accuracy: 0.4881\n",
            "Epoch 55: val_accuracy did not improve from 0.50193\n",
            "50/50 [==============================] - 21s 428ms/step - loss: 1.1628 - accuracy: 0.4881 - val_loss: 1.3559 - val_accuracy: 0.4865\n",
            "Epoch 56/100\n",
            "50/50 [==============================] - ETA: 0s - loss: 1.1671 - accuracy: 0.4913\n",
            "Epoch 56: val_accuracy did not improve from 0.50193\n",
            "50/50 [==============================] - 21s 430ms/step - loss: 1.1671 - accuracy: 0.4913 - val_loss: 1.3157 - val_accuracy: 0.4981\n",
            "Epoch 57/100\n",
            "50/50 [==============================] - ETA: 0s - loss: 1.1794 - accuracy: 0.5250\n",
            "Epoch 57: val_accuracy did not improve from 0.50193\n",
            "50/50 [==============================] - 21s 425ms/step - loss: 1.1794 - accuracy: 0.5250 - val_loss: 1.3111 - val_accuracy: 0.4865\n",
            "Epoch 58/100\n",
            "50/50 [==============================] - ETA: 0s - loss: 1.1733 - accuracy: 0.4919\n",
            "Epoch 58: val_accuracy did not improve from 0.50193\n",
            "50/50 [==============================] - 21s 421ms/step - loss: 1.1733 - accuracy: 0.4919 - val_loss: 1.2626 - val_accuracy: 0.4942\n",
            "Epoch 59/100\n",
            "50/50 [==============================] - ETA: 0s - loss: 1.1546 - accuracy: 0.5081\n",
            "Epoch 59: val_accuracy did not improve from 0.50193\n",
            "50/50 [==============================] - 21s 429ms/step - loss: 1.1546 - accuracy: 0.5081 - val_loss: 1.3102 - val_accuracy: 0.4788\n",
            "Epoch 60/100\n",
            "50/50 [==============================] - ETA: 0s - loss: 1.1940 - accuracy: 0.4606\n",
            "Epoch 60: val_accuracy did not improve from 0.50193\n",
            "50/50 [==============================] - 21s 419ms/step - loss: 1.1940 - accuracy: 0.4606 - val_loss: 1.3733 - val_accuracy: 0.4749\n",
            "Epoch 61/100\n",
            "50/50 [==============================] - ETA: 0s - loss: 1.1816 - accuracy: 0.5044\n",
            "Epoch 61: val_accuracy did not improve from 0.50193\n",
            "50/50 [==============================] - 21s 420ms/step - loss: 1.1816 - accuracy: 0.5044 - val_loss: 1.3378 - val_accuracy: 0.4942\n",
            "Epoch 62/100\n",
            "50/50 [==============================] - ETA: 0s - loss: 1.1803 - accuracy: 0.4750\n",
            "Epoch 62: val_accuracy did not improve from 0.50193\n",
            "50/50 [==============================] - 21s 426ms/step - loss: 1.1803 - accuracy: 0.4750 - val_loss: 1.3483 - val_accuracy: 0.4942\n",
            "Epoch 63/100\n",
            "50/50 [==============================] - ETA: 0s - loss: 1.1528 - accuracy: 0.4981\n",
            "Epoch 63: val_accuracy did not improve from 0.50193\n",
            "50/50 [==============================] - 20s 409ms/step - loss: 1.1528 - accuracy: 0.4981 - val_loss: 1.3195 - val_accuracy: 0.4710\n",
            "Epoch 64/100\n",
            "50/50 [==============================] - ETA: 0s - loss: 1.1510 - accuracy: 0.5244\n",
            "Epoch 64: val_accuracy improved from 0.50193 to 0.50579, saving model to /content/drive/MyDrive/Skripsi/best_model60.h5\n",
            "50/50 [==============================] - 23s 470ms/step - loss: 1.1510 - accuracy: 0.5244 - val_loss: 1.3099 - val_accuracy: 0.5058\n",
            "Epoch 65/100\n",
            "50/50 [==============================] - ETA: 0s - loss: 1.1715 - accuracy: 0.5163\n",
            "Epoch 65: val_accuracy did not improve from 0.50579\n",
            "50/50 [==============================] - 22s 431ms/step - loss: 1.1715 - accuracy: 0.5163 - val_loss: 1.3470 - val_accuracy: 0.4826\n",
            "Epoch 66/100\n",
            "50/50 [==============================] - ETA: 0s - loss: 1.1371 - accuracy: 0.5332\n",
            "Epoch 66: val_accuracy did not improve from 0.50579\n",
            "50/50 [==============================] - 21s 424ms/step - loss: 1.1371 - accuracy: 0.5332 - val_loss: 1.3237 - val_accuracy: 0.4903\n",
            "Epoch 67/100\n",
            "50/50 [==============================] - ETA: 0s - loss: 1.1501 - accuracy: 0.5119\n",
            "Epoch 67: val_accuracy did not improve from 0.50579\n",
            "50/50 [==============================] - 21s 425ms/step - loss: 1.1501 - accuracy: 0.5119 - val_loss: 1.3401 - val_accuracy: 0.4788\n",
            "Epoch 68/100\n",
            "50/50 [==============================] - ETA: 0s - loss: 1.1338 - accuracy: 0.5106\n",
            "Epoch 68: val_accuracy did not improve from 0.50579\n",
            "50/50 [==============================] - 21s 426ms/step - loss: 1.1338 - accuracy: 0.5106 - val_loss: 1.2975 - val_accuracy: 0.4942\n",
            "Epoch 69/100\n",
            "50/50 [==============================] - ETA: 0s - loss: 1.1399 - accuracy: 0.5257\n",
            "Epoch 69: val_accuracy did not improve from 0.50579\n",
            "50/50 [==============================] - 21s 413ms/step - loss: 1.1399 - accuracy: 0.5257 - val_loss: 1.3197 - val_accuracy: 0.4942\n",
            "Epoch 70/100\n",
            "50/50 [==============================] - ETA: 0s - loss: 1.1295 - accuracy: 0.5263\n",
            "Epoch 70: val_accuracy did not improve from 0.50579\n",
            "50/50 [==============================] - 22s 436ms/step - loss: 1.1295 - accuracy: 0.5263 - val_loss: 1.3192 - val_accuracy: 0.4517\n",
            "Epoch 71/100\n",
            "50/50 [==============================] - ETA: 0s - loss: 1.1437 - accuracy: 0.5294\n",
            "Epoch 71: val_accuracy did not improve from 0.50579\n",
            "50/50 [==============================] - 21s 421ms/step - loss: 1.1437 - accuracy: 0.5294 - val_loss: 1.2749 - val_accuracy: 0.4749\n",
            "Epoch 72/100\n",
            "50/50 [==============================] - ETA: 0s - loss: 1.1333 - accuracy: 0.5100\n",
            "Epoch 72: val_accuracy did not improve from 0.50579\n",
            "50/50 [==============================] - 21s 426ms/step - loss: 1.1333 - accuracy: 0.5100 - val_loss: 1.3447 - val_accuracy: 0.4865\n",
            "Epoch 73/100\n",
            "50/50 [==============================] - ETA: 0s - loss: 1.1398 - accuracy: 0.5407\n",
            "Epoch 73: val_accuracy did not improve from 0.50579\n",
            "50/50 [==============================] - 22s 447ms/step - loss: 1.1398 - accuracy: 0.5407 - val_loss: 1.3912 - val_accuracy: 0.4865\n",
            "Epoch 74/100\n",
            "50/50 [==============================] - ETA: 0s - loss: 1.1255 - accuracy: 0.5213\n",
            "Epoch 74: val_accuracy did not improve from 0.50579\n",
            "50/50 [==============================] - 21s 417ms/step - loss: 1.1255 - accuracy: 0.5213 - val_loss: 1.2947 - val_accuracy: 0.4672\n",
            "Epoch 75/100\n",
            "50/50 [==============================] - ETA: 0s - loss: 1.1150 - accuracy: 0.5307\n",
            "Epoch 75: val_accuracy did not improve from 0.50579\n",
            "50/50 [==============================] - 21s 410ms/step - loss: 1.1150 - accuracy: 0.5307 - val_loss: 1.3321 - val_accuracy: 0.4749\n",
            "Epoch 76/100\n",
            "50/50 [==============================] - ETA: 0s - loss: 1.1243 - accuracy: 0.5088\n",
            "Epoch 76: val_accuracy did not improve from 0.50579\n",
            "50/50 [==============================] - 21s 418ms/step - loss: 1.1243 - accuracy: 0.5088 - val_loss: 1.3724 - val_accuracy: 0.4942\n",
            "Epoch 77/100\n",
            "50/50 [==============================] - ETA: 0s - loss: 1.1176 - accuracy: 0.5269\n",
            "Epoch 77: val_accuracy improved from 0.50579 to 0.52896, saving model to /content/drive/MyDrive/Skripsi/best_model60.h5\n",
            "50/50 [==============================] - 22s 437ms/step - loss: 1.1176 - accuracy: 0.5269 - val_loss: 1.3235 - val_accuracy: 0.5290\n",
            "Epoch 78/100\n",
            "50/50 [==============================] - ETA: 0s - loss: 1.0981 - accuracy: 0.5469\n",
            "Epoch 78: val_accuracy did not improve from 0.52896\n",
            "50/50 [==============================] - 21s 430ms/step - loss: 1.0981 - accuracy: 0.5469 - val_loss: 1.3880 - val_accuracy: 0.4749\n",
            "Epoch 79/100\n",
            "50/50 [==============================] - ETA: 0s - loss: 1.1450 - accuracy: 0.5232\n",
            "Epoch 79: val_accuracy did not improve from 0.52896\n",
            "50/50 [==============================] - 21s 428ms/step - loss: 1.1450 - accuracy: 0.5232 - val_loss: 1.3878 - val_accuracy: 0.4710\n",
            "Epoch 80/100\n",
            "50/50 [==============================] - ETA: 0s - loss: 1.1202 - accuracy: 0.5507\n",
            "Epoch 80: val_accuracy did not improve from 0.52896\n",
            "50/50 [==============================] - 21s 421ms/step - loss: 1.1202 - accuracy: 0.5507 - val_loss: 1.2903 - val_accuracy: 0.4981\n",
            "Epoch 81/100\n",
            "50/50 [==============================] - ETA: 0s - loss: 1.1633 - accuracy: 0.5131\n",
            "Epoch 81: val_accuracy did not improve from 0.52896\n",
            "50/50 [==============================] - 21s 427ms/step - loss: 1.1633 - accuracy: 0.5131 - val_loss: 1.2838 - val_accuracy: 0.4942\n",
            "Epoch 82/100\n",
            "50/50 [==============================] - ETA: 0s - loss: 1.1103 - accuracy: 0.5394\n",
            "Epoch 82: val_accuracy did not improve from 0.52896\n",
            "50/50 [==============================] - 21s 422ms/step - loss: 1.1103 - accuracy: 0.5394 - val_loss: 1.2644 - val_accuracy: 0.5251\n",
            "Epoch 83/100\n",
            "50/50 [==============================] - ETA: 0s - loss: 1.1138 - accuracy: 0.5232\n",
            "Epoch 83: val_accuracy did not improve from 0.52896\n",
            "50/50 [==============================] - 21s 426ms/step - loss: 1.1138 - accuracy: 0.5232 - val_loss: 1.3229 - val_accuracy: 0.5251\n",
            "Epoch 84/100\n",
            "50/50 [==============================] - ETA: 0s - loss: 1.0900 - accuracy: 0.5357\n",
            "Epoch 84: val_accuracy did not improve from 0.52896\n",
            "50/50 [==============================] - 20s 411ms/step - loss: 1.0900 - accuracy: 0.5357 - val_loss: 1.3429 - val_accuracy: 0.5019\n",
            "Epoch 85/100\n",
            "50/50 [==============================] - ETA: 0s - loss: 1.1274 - accuracy: 0.5144\n",
            "Epoch 85: val_accuracy did not improve from 0.52896\n",
            "50/50 [==============================] - 21s 409ms/step - loss: 1.1274 - accuracy: 0.5144 - val_loss: 1.3510 - val_accuracy: 0.5058\n",
            "Epoch 86/100\n",
            "50/50 [==============================] - ETA: 0s - loss: 1.1346 - accuracy: 0.5156\n",
            "Epoch 86: val_accuracy did not improve from 0.52896\n",
            "50/50 [==============================] - 21s 417ms/step - loss: 1.1346 - accuracy: 0.5156 - val_loss: 1.2895 - val_accuracy: 0.5097\n",
            "Epoch 87/100\n",
            "50/50 [==============================] - ETA: 0s - loss: 1.1303 - accuracy: 0.5257\n",
            "Epoch 87: val_accuracy did not improve from 0.52896\n",
            "50/50 [==============================] - 21s 419ms/step - loss: 1.1303 - accuracy: 0.5257 - val_loss: 1.3347 - val_accuracy: 0.4749\n",
            "Epoch 88/100\n",
            "50/50 [==============================] - ETA: 0s - loss: 1.1088 - accuracy: 0.5357\n",
            "Epoch 88: val_accuracy did not improve from 0.52896\n",
            "50/50 [==============================] - 21s 430ms/step - loss: 1.1088 - accuracy: 0.5357 - val_loss: 1.3246 - val_accuracy: 0.5135\n",
            "Epoch 89/100\n",
            "50/50 [==============================] - ETA: 0s - loss: 1.0992 - accuracy: 0.5475\n",
            "Epoch 89: val_accuracy did not improve from 0.52896\n",
            "50/50 [==============================] - 21s 426ms/step - loss: 1.0992 - accuracy: 0.5475 - val_loss: 1.3803 - val_accuracy: 0.4942\n",
            "Epoch 90/100\n",
            "50/50 [==============================] - ETA: 0s - loss: 1.1013 - accuracy: 0.5332\n",
            "Epoch 90: val_accuracy did not improve from 0.52896\n",
            "50/50 [==============================] - 21s 430ms/step - loss: 1.1013 - accuracy: 0.5332 - val_loss: 1.3534 - val_accuracy: 0.5174\n",
            "Epoch 91/100\n",
            "50/50 [==============================] - ETA: 0s - loss: 1.1102 - accuracy: 0.5407\n",
            "Epoch 91: val_accuracy did not improve from 0.52896\n",
            "50/50 [==============================] - 21s 422ms/step - loss: 1.1102 - accuracy: 0.5407 - val_loss: 1.3497 - val_accuracy: 0.5019\n",
            "Epoch 92/100\n",
            "50/50 [==============================] - ETA: 0s - loss: 1.1336 - accuracy: 0.5462\n",
            "Epoch 92: val_accuracy did not improve from 0.52896\n",
            "50/50 [==============================] - 21s 413ms/step - loss: 1.1336 - accuracy: 0.5462 - val_loss: 1.3236 - val_accuracy: 0.4595\n",
            "Epoch 93/100\n",
            "50/50 [==============================] - ETA: 0s - loss: 1.1277 - accuracy: 0.5119\n",
            "Epoch 93: val_accuracy did not improve from 0.52896\n",
            "50/50 [==============================] - 21s 421ms/step - loss: 1.1277 - accuracy: 0.5119 - val_loss: 1.3439 - val_accuracy: 0.4903\n",
            "Epoch 94/100\n",
            "50/50 [==============================] - ETA: 0s - loss: 1.1181 - accuracy: 0.5263\n",
            "Epoch 94: val_accuracy did not improve from 0.52896\n",
            "50/50 [==============================] - 21s 429ms/step - loss: 1.1181 - accuracy: 0.5263 - val_loss: 1.2771 - val_accuracy: 0.5097\n",
            "Epoch 95/100\n",
            "50/50 [==============================] - ETA: 0s - loss: 1.1088 - accuracy: 0.5194\n",
            "Epoch 95: val_accuracy did not improve from 0.52896\n",
            "50/50 [==============================] - 21s 420ms/step - loss: 1.1088 - accuracy: 0.5194 - val_loss: 1.4117 - val_accuracy: 0.5058\n",
            "Epoch 96/100\n",
            "50/50 [==============================] - ETA: 0s - loss: 1.0788 - accuracy: 0.5587\n",
            "Epoch 96: val_accuracy did not improve from 0.52896\n",
            "50/50 [==============================] - 21s 424ms/step - loss: 1.0788 - accuracy: 0.5587 - val_loss: 1.4793 - val_accuracy: 0.4710\n",
            "Epoch 97/100\n",
            "50/50 [==============================] - ETA: 0s - loss: 1.1117 - accuracy: 0.5369\n",
            "Epoch 97: val_accuracy did not improve from 0.52896\n",
            "50/50 [==============================] - 21s 427ms/step - loss: 1.1117 - accuracy: 0.5369 - val_loss: 1.4088 - val_accuracy: 0.4788\n",
            "Epoch 98/100\n",
            "50/50 [==============================] - ETA: 0s - loss: 1.0678 - accuracy: 0.5450\n",
            "Epoch 98: val_accuracy did not improve from 0.52896\n",
            "50/50 [==============================] - 21s 424ms/step - loss: 1.0678 - accuracy: 0.5450 - val_loss: 1.3580 - val_accuracy: 0.4788\n",
            "Epoch 99/100\n",
            "50/50 [==============================] - ETA: 0s - loss: 1.0981 - accuracy: 0.5375\n",
            "Epoch 99: val_accuracy did not improve from 0.52896\n",
            "50/50 [==============================] - 22s 430ms/step - loss: 1.0981 - accuracy: 0.5375 - val_loss: 1.3758 - val_accuracy: 0.4672\n",
            "Epoch 100/100\n",
            "50/50 [==============================] - ETA: 0s - loss: 1.0906 - accuracy: 0.5400\n",
            "Epoch 100: val_accuracy did not improve from 0.52896\n",
            "50/50 [==============================] - 21s 424ms/step - loss: 1.0906 - accuracy: 0.5400 - val_loss: 1.3069 - val_accuracy: 0.4749\n"
          ]
        }
      ],
      "source": [
        "start = datetime.datetime.now()\n",
        "history = model.fit_generator(train_generator,\n",
        "                              epochs=100,\n",
        "                              steps_per_epoch=50,\n",
        "                              verbose=1,\n",
        "                              validation_data=validation_generator,\n",
        "                              callbacks = [callbacks]\n",
        "                              )\n"
      ]
    },
    {
      "cell_type": "markdown",
      "metadata": {
        "id": "qfveoQOtBk2Z"
      },
      "source": [
        "1 - low accuracy and big loss means you made huge errors on a lot of data\n",
        "\n",
        "2 - low accuracy but small loss means you made little errors on a lot of data\n",
        "\n",
        "3 - high accuracy with small loss means you made low errors on a few data (best case)\n",
        "\n",
        "4 - high accuracy but a big loss, means you made huge errors on a few data.\n",
        "\n",
        "high training accuracy and very low validation then this case is probably known as over-fitting.\n"
      ]
    },
    {
      "cell_type": "code",
      "execution_count": null,
      "metadata": {
        "colab": {
          "background_save": true
        },
        "id": "h_g9MvJKJqJK",
        "outputId": "32fca3ab-6bea-462c-f9f4-498b7b4b7656"
      },
      "outputs": [
        {
          "name": "stdout",
          "output_type": "stream",
          "text": [
            "17/17 [==============================] - 3s 157ms/step - loss: 1.3069 - accuracy: 0.4749\n",
            "[INFO] accuracy: 47.49%\n",
            "[INFO] Loss: 1.31%\n",
            "Time:  0:49:21.383017\n"
          ]
        }
      ],
      "source": [
        "\n",
        "(val_loss, val_accuracy) = model.evaluate(\n",
        "    validation_generator, \n",
        "    batch_size=batch_size, \n",
        "    verbose=1)\n",
        "\n",
        "print('[INFO] accuracy: {:.2f}%'.format(val_accuracy * 100)) \n",
        "print('[INFO] Loss: {:.2f}%'.format(val_loss)) \n",
        "end = datetime.datetime.now()\n",
        "elapsed = end-start\n",
        "print('Time: ', elapsed)\n"
      ]
    },
    {
      "cell_type": "code",
      "execution_count": null,
      "metadata": {
        "id": "BHSbi-dRgMaH"
      },
      "outputs": [],
      "source": [
        "\n",
        "(train_loss, train_accuracy) = model.evaluate(\n",
        "    train_generator, \n",
        "    batch_size=batch_size, \n",
        "    verbose=1)\n",
        "\n",
        "print('[INFO] accuracy: {:.2f}%'.format(train_accuracy * 100)) \n",
        "print('[INFO] Loss: {:.2f}%'.format(train_loss)) \n",
        "end = datetime.datetime.now()\n",
        "elapsed = end-start\n",
        "print('Time: ', elapsed)\n"
      ]
    },
    {
      "cell_type": "code",
      "execution_count": null,
      "metadata": {
        "colab": {
          "background_save": true
        },
        "id": "Fsu1gN-vxGX7",
        "outputId": "f283b4d5-8670-4b8b-8eac-da5a2dc8fadd"
      },
      "outputs": [
        {
          "data": {
            "image/png": "[encoded data removed]",
            "text/plain": [
              "<Figure size 1008x504 with 1 Axes>"
            ]
          },
          "metadata": {},
          "output_type": "display_data"
        }
      ],
      "source": [
        "\n",
        "acc=history.history['accuracy']\n",
        "val_acc=history.history['val_accuracy']\n",
        "loss=history.history['loss']\n",
        "val_loss=history.history['val_loss']\n",
        "\n",
        "epochs=range(len(acc))\n",
        "\n",
        "fig = plt.figure(figsize=(14,7))\n",
        "plt.plot(epochs, acc, 'r', label=\"Training Accuracy\")\n",
        "plt.plot(epochs, val_acc, 'b', label=\"Validation Accuracy\")\n",
        "plt.xlabel('Epoch')\n",
        "plt.ylabel('Accuracy')\n",
        "plt.title('Training and validation accuracy')\n",
        "plt.legend(loc='lower right')\n",
        "plt.show()\n"
      ]
    },
    {
      "cell_type": "code",
      "execution_count": null,
      "metadata": {
        "colab": {
          "background_save": true
        },
        "id": "4HdZuHxHxt3k",
        "outputId": "ab889795-fac6-45db-f02d-3024738d0d85"
      },
      "outputs": [
        {
          "data": {
            "text/plain": [
              "Text(0.5, 1.0, 'Training and validation loss')"
            ]
          },
          "execution_count": null,
          "metadata": {},
          "output_type": "execute_result"
        },
        {
          "data": {
            "image/png": "[encoded data removed]",
            "text/plain": [
              "<Figure size 1008x504 with 1 Axes>"
            ]
          },
          "metadata": {},
          "output_type": "display_data"
        }
      ],
      "source": [
        "\n",
        "fig2 = plt.figure(figsize=(14,7))\n",
        "plt.plot(epochs, loss, 'r', label=\"Training Loss\")\n",
        "plt.plot(epochs, val_loss, 'b', label=\"Validation Loss\")\n",
        "plt.legend(loc='upper right')\n",
        "plt.xlabel('Epoch')\n",
        "plt.ylabel('Loss')\n",
        "plt.title('Training and validation loss')\n"
      ]
    },
    {
      "cell_type": "code",
      "execution_count": null,
      "metadata": {
        "id": "DlO_5AdP9rvT"
      },
      "outputs": [],
      "source": [
        "\n",
        "from sklearn.metrics import confusion_matrix, classification_report\n",
        "\n",
        "predict = model.predict_generator(validation_generator)\n",
        "pred = np.argmax(predict, axis=1)\n",
        "cm = confusion_matrix(validation_generator.classes,pred)\n",
        "\n",
        "def plot_confusion_matrix(cm, classes,\n",
        "   normalize=False,\n",
        "   title='Confusion matrix',\n",
        "   cmap=plt.cm.Blues) :\n",
        "\n",
        "      if normalize:\n",
        "          cm = cm.astype('float')/cm.sum(axis=1)[:, np.newaxis] \n",
        "          print('Normalized confusion matrix')\n",
        "   \n",
        "      else: print('Confusion matrix, without normalization') \n",
        "        \n",
        "      plt.imshow(cm, interpolation='nearest', cmap=cmap)\n",
        "      plt.title(title)\n",
        "      plt.colorbar()\n",
        "      tick_marks = np.arange(len(classes))\n",
        "      plt.xticks(tick_marks, classes, rotation=45)\n",
        "      plt.yticks(tick_marks, classes)\n",
        " \n",
        "      fmt = '.2f' if normalize else 'd'\n",
        "      thresh = cm.max() / 2.\n",
        "      for i, j in itertools.product(range(cm.shape[0]), range(cm.shape[1])):\n",
        "        plt.text(j, i, format(cm[i, j], fmt), horizontalalignment='center', color='white' if cm[i, j] > thresh else 'black')\n",
        "      plt.tight_layout()\n",
        "      plt.ylabel('True label')\n",
        "      plt.xlabel('Predicted label') \n",
        "\n",
        "print(\"========= CONFUSION MATRIX =========\")\n",
        "print(cm)\n",
        "\n",
        "print(\"============== RESULT ==============\")\n",
        "print(classification_report(validation_generator.classes,pred))\n",
        "\n",
        "plot_confusion_matrix(cm, ['Cumulonimbus', 'Cumulus', 'Nimbostratus', 'Stratocumulus', 'Stratus'], normalize = True)"
      ]
    },
    {
      "cell_type": "code",
      "execution_count": null,
      "metadata": {
        "id": "d7Wbi6DBMcQ_"
      },
      "outputs": [],
      "source": [
        "model = load_model(best_model_file)"
      ]
    },
    {
      "cell_type": "code",
      "execution_count": null,
      "metadata": {
        "id": "Fu1xHODBQxUb"
      },
      "outputs": [],
      "source": [
        "\n",
        "%matplotlib inline\n",
        "uploaded = files.upload()\n",
        "for fn in uploaded.keys():\n",
        "       path = fn\n",
        "       img = image.load_img(path, target_size=(img_width,img_height))\n",
        "       imgplot = plt.imshow(img)\n",
        "       x = image.img_to_array(img)\n",
        "       x = np.expand_dims(x, axis=0)\n",
        "       x = x/255\n",
        "       images = np.vstack([x])\n",
        "       classes = model.predict(images, batch_size=16)\n",
        "\n",
        "       print(fn)\n",
        "       print(classes)\n",
        "       if np.argmax(classes[0]) == 0:\n",
        "         print('Cumulonimbus')\n",
        "         \n",
        "       elif np.argmax(classes[0]) == 1:\n",
        "        print('Cumulus')\n",
        "        \n",
        "       elif np.argmax(classes[0]) == 2:\n",
        "        print('Nimbostratus')\n",
        "       \n",
        "       elif np.argmax(classes[0]) == 3:\n",
        "        print('Stratocumulus')\n",
        "        \n",
        "       else:\n",
        "          print('Stratus')\n",
        "\n",
        "\n"
      ]
    },
    {
      "cell_type": "markdown",
      "metadata": {
        "id": "2coLSuytwrOr"
      },
      "source": [
        "\n",
        "https://towardsdatascience.com/a-simple-cnn-multi-image-classifier-31c463324fa\n",
        "https://github.com/Laurnh/poundcake/blob/master/classifier/cnn_confusion-matrix.py\n",
        "https://stackoverflow.com/questions/51282098/plotting-confusion-matrix-for-an-image-classification-model\n",
        "\n",
        "https://machinelearningmastery.com/overfitting-machine-learning-models/ overfit\n",
        "\n",
        "https://analyticsindiamag.com/everything-you-should-know-about-dropouts-and-batchnormalization-in-cnn/ dropout\n",
        "https://keras.io/api/layers/regularizers/ regularization\n",
        "\n",
        "https://data-flair.training/blogs/transfer-learning/ transfer learning\n",
        "https://towardsdatascience.com/transfer-learning-with-convolutional-neural-networks-in-pytorch-dd09190245ce\n",
        "\n",
        "Inception \n",
        "https://iq.opengenus.org/inception-pre-trained-cnn-model/\n",
        "\n",
        "https://iq.opengenus.org/inception-v3-model-architecture/#:~:text=The%20Inception%20V3%20is%20a%20deep%20learning%20model,it%20was%20developed%20by%20a%20team%20at%20Google.\n",
        "\n",
        "https://medium.com/@AnasBrital98/inception-v3-cnn-architecture-explained-691cfb7bba08\n",
        "\n",
        "Spkit 60:40\n",
        "https://towardsdatascience.com/data-splitting-technique-to-fit-any-machine-learning-model-c0d7f3f1c790\n",
        "\n",
        "Bang Yahyung\n",
        "https://github.com/ndawinata/CNN_Django_Yajyung/blob/master/mysite/cnn.py"
      ]
    },
    {
      "cell_type": "markdown",
      "metadata": {
        "id": "OY5gPtk4GcKR"
      },
      "source": [
        "Hasilku masih overfit. jadi antara jumlah validasinya terlalu rendah, layer kurang dalam, atau preprocessing kurang.\n",
        "\n",
        "Cara mengurangi overfit adalah mengurangi weight.\n",
        "Change network complexity by changing the network structure (number of weights).\n",
        "Change network complexity by changing the network parameters (values of weights)\n",
        "\n",
        "Kedalaman layer atau parameter\n",
        "\n",
        "- Augmenting the training set\n",
        "- Applying other regularization techniques like dropout or early stopping (one at a time)\n",
        "- A pre-trained CNNs(like ResNet-50) if you haven't\n",
        "\n",
        "\n",
        "\n"
      ]
    },
    {
      "cell_type": "code",
      "execution_count": null,
      "metadata": {
        "id": "0h6jg6acPDeo"
      },
      "outputs": [],
      "source": [
        " "
      ]
    }
  ],
  "metadata": {
    "accelerator": "GPU",
    "colab": {
      "collapsed_sections": [],
      "name": "Skripsi V2.ipynb",
      "provenance": [],
      "include_colab_link": true
    },
    "kernelspec": {
      "display_name": "Python 3",
      "name": "python3"
    },
    "language_info": {
      "name": "python"
    }
  },
  "nbformat": 4,
  "nbformat_minor": 0
}